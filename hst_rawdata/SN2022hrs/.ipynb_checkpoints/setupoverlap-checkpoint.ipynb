{
 "cells": [
  {
   "cell_type": "code",
   "execution_count": 1,
   "metadata": {},
   "outputs": [],
   "source": [
    "##SUPERNOVA RESEARCH - Jessica Allen\n"
   ]
  },
  {
   "cell_type": "code",
   "execution_count": 1,
   "metadata": {},
   "outputs": [],
   "source": [
    "import pandas as pd\n",
    "import numpy as np\n",
    "import matplotlib.pyplot as plt\n",
    "plt.rcParams['figure.figsize'] = [12, 5]\n",
    "plt.rcParams.update({'font.size': 12})"
   ]
  },
  {
   "cell_type": "code",
   "execution_count": 7,
   "metadata": {},
   "outputs": [],
   "source": [
    "#df1 = pd.read_csv(\"SN2022hrs_G430L_20220422.32.dat\", sep=' ', header=None)\n",
    "#df2 = pd.read_csv(\"SN20222hrs_muv_20220422.4.dat\", sep=' ', header=None)\n",
    "#arr = []\n",
    "wavelength1=[]\n",
    "flux1=[]\n",
    "\n",
    "wavelength2=[]\n",
    "flux2=[]\n",
    "\n",
    "\n",
    "\n",
    "f1 = open('/Users/supernova/Desktop/SN/github/UVSN/hst_rawdata/SN2022hrs/SN2022hrs_muv_20220427.3_20.dat', 'r')\n",
    "for line in f1:\n",
    "    line = line.strip()\n",
    "    columns = line.split()\n",
    "\n",
    "    wavelength1.append(float(columns[0]))\n",
    "    flux1.append(float(columns[1]))\n",
    "f1.close()    \n",
    "    \n",
    "\n",
    "\n",
    "f2 = open('SN2022hrs_G430L_20220427_1.dat', 'r')\n",
    "for line in f2:\n",
    "    line = line.strip()\n",
    "    columns = line.split()\n",
    "    wavelength2.append(float(columns[0]))\n",
    "    flux2.append(float(columns[1]))\n",
    "\n",
    "f2.close()    \n",
    "    \n"
   ]
  },
  {
   "cell_type": "code",
   "execution_count": null,
   "metadata": {},
   "outputs": [],
   "source": []
  },
  {
   "cell_type": "code",
   "execution_count": null,
   "metadata": {},
   "outputs": [],
   "source": []
  },
  {
   "cell_type": "code",
   "execution_count": null,
   "metadata": {},
   "outputs": [],
   "source": []
  },
  {
   "cell_type": "code",
   "execution_count": null,
   "metadata": {},
   "outputs": [],
   "source": []
  },
  {
   "cell_type": "code",
   "execution_count": null,
   "metadata": {},
   "outputs": [],
   "source": []
  },
  {
   "cell_type": "code",
   "execution_count": 8,
   "metadata": {},
   "outputs": [],
   "source": [
    "wavelength3 = np.arange(int(min(wavelength1)), int(max(wavelength2)), 10)"
   ]
  },
  {
   "cell_type": "code",
   "execution_count": 9,
   "metadata": {},
   "outputs": [
    {
     "ename": "TypeError",
     "evalue": "list indices must be integers or slices, not NoneType",
     "output_type": "error",
     "traceback": [
      "\u001b[0;31m---------------------------------------------------------------------------\u001b[0m",
      "\u001b[0;31mTypeError\u001b[0m                                 Traceback (most recent call last)",
      "\u001b[0;32m/var/folders/lm/1s7yhzbn56l3gt6dp_gzhtgc0000gn/T/ipykernel_33243/802949953.py\u001b[0m in \u001b[0;36m<module>\u001b[0;34m\u001b[0m\n\u001b[1;32m     12\u001b[0m         \u001b[0;32mpass\u001b[0m\u001b[0;34m\u001b[0m\u001b[0;34m\u001b[0m\u001b[0m\n\u001b[1;32m     13\u001b[0m     \u001b[0;32mif\u001b[0m \u001b[0midx1\u001b[0m \u001b[0;32mis\u001b[0m \u001b[0;32mNone\u001b[0m\u001b[0;34m:\u001b[0m\u001b[0;34m\u001b[0m\u001b[0;34m\u001b[0m\u001b[0m\n\u001b[0;32m---> 14\u001b[0;31m         \u001b[0mflux3\u001b[0m\u001b[0;34m.\u001b[0m\u001b[0mappend\u001b[0m\u001b[0;34m(\u001b[0m\u001b[0mflux2\u001b[0m\u001b[0;34m[\u001b[0m\u001b[0midx2\u001b[0m\u001b[0;34m]\u001b[0m\u001b[0;34m)\u001b[0m\u001b[0;34m\u001b[0m\u001b[0;34m\u001b[0m\u001b[0m\n\u001b[0m\u001b[1;32m     15\u001b[0m         \u001b[0;32mcontinue\u001b[0m\u001b[0;34m\u001b[0m\u001b[0;34m\u001b[0m\u001b[0m\n\u001b[1;32m     16\u001b[0m     \u001b[0;32mif\u001b[0m \u001b[0midx2\u001b[0m \u001b[0;32mis\u001b[0m \u001b[0;32mNone\u001b[0m\u001b[0;34m:\u001b[0m\u001b[0;34m\u001b[0m\u001b[0;34m\u001b[0m\u001b[0m\n",
      "\u001b[0;31mTypeError\u001b[0m: list indices must be integers or slices, not NoneType"
     ]
    }
   ],
   "source": [
    "flux3 = []\n",
    "for i in range(len(wavelength3)):\n",
    "    w3 = wavelength3[i]\n",
    "    idx1, idx2 = None, None\n",
    "    try:\n",
    "        idx1 = wavelength1.tolist().index(w3)\n",
    "    except:\n",
    "        pass\n",
    "    try:\n",
    "        idx2 = wavelength2.tolist().index(w3)\n",
    "    except:\n",
    "        pass\n",
    "    if idx1 is None:\n",
    "        flux3.append(flux2[idx2])\n",
    "        continue\n",
    "    if idx2 is None:\n",
    "        flux3.append(flux1[idx1])\n",
    "        continue\n",
    "    flux3.append(0.5*(flux1[idx1]+flux2[idx2]))\n",
    "flux3 = np.array(flux3)"
   ]
  },
  {
   "cell_type": "code",
   "execution_count": null,
   "metadata": {},
   "outputs": [],
   "source": [
    "plt.plot(wavelength1, flux1, 'b', label='Spectra-1')\n",
    "plt.plot(wavelength2, flux2, 'r', label='Spectra-2')\n",
    "plt.plot(wavelength3, flux3, 'k', label='Combined Spectra')\n",
    "plt.xlabel('Wavelength')\n",
    "plt.ylabel('Flux')\n",
    "plt.title('Flux vs Wavelength')\n",
    "plt.legend()\n",
    "plt.show()"
   ]
  },
  {
   "cell_type": "code",
   "execution_count": null,
   "metadata": {},
   "outputs": [],
   "source": [
    "data = np.column_stack([wavelength3, flux3])\n",
    "datafile_path = \"combined_spectra.txt\"\n",
    "np.savetxt(datafile_path , data)"
   ]
  }
 ],
 "metadata": {
  "kernelspec": {
   "display_name": "Python 3 (ipykernel)",
   "language": "python",
   "name": "python3"
  },
  "language_info": {
   "codemirror_mode": {
    "name": "ipython",
    "version": 3
   },
   "file_extension": ".py",
   "mimetype": "text/x-python",
   "name": "python",
   "nbconvert_exporter": "python",
   "pygments_lexer": "ipython3",
   "version": "3.9.13"
  }
 },
 "nbformat": 4,
 "nbformat_minor": 4
}
